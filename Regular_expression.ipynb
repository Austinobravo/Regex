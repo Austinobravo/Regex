{
 "cells": [
  {
   "cell_type": "code",
   "execution_count": null,
   "metadata": {},
   "outputs": [],
   "source": []
  },
  {
   "cell_type": "markdown",
   "metadata": {},
   "source": [
    "abcdefghijklmnopqrstuvwxyz\n",
    "ABCDEFGHIJKLMNOPQRSTUVWXYZ\n",
    "1234567890\n",
    ",./;'[\\]=-``\n",
    "<>?|\":{}+_)(*&^%$#@!)\n",
    "https:\\\\www.me.you.us\n",
    "123--4-5\n",
    "mrs spa. x\n",
    "https://www.google.com\n",
    "https://127.0.0.1"
   ]
  },
  {
   "cell_type": "markdown",
   "metadata": {},
   "source": [
    "\\ to represent symbols\n",
    "\\s Get spaces\n",
    "\\w Get all words\n",
    "? zero or one element\n",
    "* zero to all\n",
    "+ one to all\n",
    "[] Narrow options ie matches characters inside\n",
    "() Grouping options\n",
    "- ranging options\n",
    "\\d digit(0-9)\n",
    ". Any character except new line\n",
    "\\D Not a digit\n",
    "\\W Not a word\n",
    "\\S Not a space\n",
    "\\b Word boundary ie checking if there's space between a word\n",
    "\\B Not word boundary\n",
    "^ Beginning of a string\n",
    "$ End of a string\n",
    "[^] Matches word not in the brackets\n",
    "{8} Matches exact number\n",
    "{1,5} Gives a range of number from start to finish\n",
    "\n",
    "\n"
   ]
  }
 ],
 "metadata": {
  "kernelspec": {
   "display_name": "Python 3",
   "language": "python",
   "name": "python3"
  },
  "language_info": {
   "codemirror_mode": {
    "name": "ipython",
    "version": 3
   },
   "file_extension": ".py",
   "mimetype": "text/x-python",
   "name": "python",
   "nbconvert_exporter": "python",
   "pygments_lexer": "ipython3",
   "version": "3.10.5"
  },
  "orig_nbformat": 4
 },
 "nbformat": 4,
 "nbformat_minor": 2
}
